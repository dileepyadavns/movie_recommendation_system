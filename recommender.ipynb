{
 "cells": [
  {
   "cell_type": "code",
   "execution_count": 1,
   "id": "22a693b4",
   "metadata": {},
   "outputs": [],
   "source": [
    "from sklearn.feature_extraction.text import CountVectorizer\n",
    "cv = CountVectorizer(max_features=5000,stop_words='english')\n",
    "    "
   ]
  },
  {
   "cell_type": "code",
   "execution_count": 2,
   "id": "405d2e12",
   "metadata": {},
   "outputs": [],
   "source": [
    "import numpy as np\n",
    "import pandas as pd"
   ]
  },
  {
   "cell_type": "code",
   "execution_count": 3,
   "id": "fe77f29c",
   "metadata": {},
   "outputs": [],
   "source": [
    "new=pd.read_csv(\"main_data.csv\")"
   ]
  },
  {
   "cell_type": "code",
   "execution_count": 4,
   "id": "ab30f502",
   "metadata": {},
   "outputs": [],
   "source": [
    "n1=new.iloc[:1000,:]"
   ]
  },
  {
   "cell_type": "code",
   "execution_count": 5,
   "id": "1be6ea4c",
   "metadata": {},
   "outputs": [
    {
     "data": {
      "text/html": [
       "<div>\n",
       "<style scoped>\n",
       "    .dataframe tbody tr th:only-of-type {\n",
       "        vertical-align: middle;\n",
       "    }\n",
       "\n",
       "    .dataframe tbody tr th {\n",
       "        vertical-align: top;\n",
       "    }\n",
       "\n",
       "    .dataframe thead th {\n",
       "        text-align: right;\n",
       "    }\n",
       "</style>\n",
       "<table border=\"1\" class=\"dataframe\">\n",
       "  <thead>\n",
       "    <tr style=\"text-align: right;\">\n",
       "      <th></th>\n",
       "      <th>director_name</th>\n",
       "      <th>actor_1_name</th>\n",
       "      <th>actor_2_name</th>\n",
       "      <th>actor_3_name</th>\n",
       "      <th>genres</th>\n",
       "      <th>movie_title</th>\n",
       "      <th>comb</th>\n",
       "    </tr>\n",
       "  </thead>\n",
       "  <tbody>\n",
       "    <tr>\n",
       "      <th>0</th>\n",
       "      <td>John Lasseter</td>\n",
       "      <td>Tom Hanks</td>\n",
       "      <td>Tim Allen</td>\n",
       "      <td>Don Rickles</td>\n",
       "      <td>Animation Comedy Family</td>\n",
       "      <td>toy story</td>\n",
       "      <td>Tom Hanks Tim Allen Don Rickles John Lasseter ...</td>\n",
       "    </tr>\n",
       "    <tr>\n",
       "      <th>1</th>\n",
       "      <td>Joe Johnston</td>\n",
       "      <td>Robin Williams</td>\n",
       "      <td>Jonathan Hyde</td>\n",
       "      <td>Kirsten Dunst</td>\n",
       "      <td>Adventure Fantasy Family</td>\n",
       "      <td>jumanji</td>\n",
       "      <td>Robin Williams Jonathan Hyde Kirsten Dunst Joe...</td>\n",
       "    </tr>\n",
       "    <tr>\n",
       "      <th>2</th>\n",
       "      <td>Howard Deutch</td>\n",
       "      <td>Walter Matthau</td>\n",
       "      <td>Jack Lemmon</td>\n",
       "      <td>Ann-Margret</td>\n",
       "      <td>Romance Comedy</td>\n",
       "      <td>grumpier old men</td>\n",
       "      <td>Walter Matthau Jack Lemmon Ann-Margret Howard ...</td>\n",
       "    </tr>\n",
       "    <tr>\n",
       "      <th>3</th>\n",
       "      <td>Forest Whitaker</td>\n",
       "      <td>Whitney Houston</td>\n",
       "      <td>Angela Bassett</td>\n",
       "      <td>Loretta Devine</td>\n",
       "      <td>Comedy Drama Romance</td>\n",
       "      <td>waiting to exhale</td>\n",
       "      <td>Whitney Houston Angela Bassett Loretta Devine ...</td>\n",
       "    </tr>\n",
       "    <tr>\n",
       "      <th>4</th>\n",
       "      <td>Charles Shyer</td>\n",
       "      <td>Steve Martin</td>\n",
       "      <td>Diane Keaton</td>\n",
       "      <td>Martin Short</td>\n",
       "      <td>Comedy</td>\n",
       "      <td>father of the bride part ii</td>\n",
       "      <td>Steve Martin Diane Keaton Martin Short Charles...</td>\n",
       "    </tr>\n",
       "    <tr>\n",
       "      <th>...</th>\n",
       "      <td>...</td>\n",
       "      <td>...</td>\n",
       "      <td>...</td>\n",
       "      <td>...</td>\n",
       "      <td>...</td>\n",
       "      <td>...</td>\n",
       "      <td>...</td>\n",
       "    </tr>\n",
       "    <tr>\n",
       "      <th>995</th>\n",
       "      <td>Alan Parker</td>\n",
       "      <td>Christine Hargreaves</td>\n",
       "      <td>James Laurenson</td>\n",
       "      <td>Eleanor David</td>\n",
       "      <td>Music</td>\n",
       "      <td>pink floyd: the wall</td>\n",
       "      <td>Christine Hargreaves James Laurenson Eleanor D...</td>\n",
       "    </tr>\n",
       "    <tr>\n",
       "      <th>996</th>\n",
       "      <td>Roland Joffé</td>\n",
       "      <td>Sam Waterston</td>\n",
       "      <td>Haing S. Ngor</td>\n",
       "      <td>Craig T. Nelson</td>\n",
       "      <td>War Drama History</td>\n",
       "      <td>the killing fields</td>\n",
       "      <td>Sam Waterston Haing S. Ngor Craig T. Nelson Ro...</td>\n",
       "    </tr>\n",
       "    <tr>\n",
       "      <th>997</th>\n",
       "      <td>Lasse Hallström</td>\n",
       "      <td>Anton Glanzelius</td>\n",
       "      <td>Tomas von Brömssen</td>\n",
       "      <td>Anki Lidén</td>\n",
       "      <td>Drama Comedy</td>\n",
       "      <td>my life as a dog</td>\n",
       "      <td>Anton Glanzelius Tomas von Brömssen Anki Lidén...</td>\n",
       "    </tr>\n",
       "    <tr>\n",
       "      <th>998</th>\n",
       "      <td>Fred M. Wilcox</td>\n",
       "      <td>Walter Pidgeon</td>\n",
       "      <td>Anne Francis</td>\n",
       "      <td>Leslie Nielsen</td>\n",
       "      <td>Adventure Sci-Fi Action</td>\n",
       "      <td>forbidden planet</td>\n",
       "      <td>Walter Pidgeon Anne Francis Leslie Nielsen Fre...</td>\n",
       "    </tr>\n",
       "    <tr>\n",
       "      <th>999</th>\n",
       "      <td>Phil Alden Robinson</td>\n",
       "      <td>Kevin Costner</td>\n",
       "      <td>Amy Madigan</td>\n",
       "      <td>Gaby Hoffmann</td>\n",
       "      <td>Drama Fantasy</td>\n",
       "      <td>field of dreams</td>\n",
       "      <td>Kevin Costner Amy Madigan Gaby Hoffmann Phil A...</td>\n",
       "    </tr>\n",
       "  </tbody>\n",
       "</table>\n",
       "<p>1000 rows × 7 columns</p>\n",
       "</div>"
      ],
      "text/plain": [
       "           director_name          actor_1_name        actor_2_name  \\\n",
       "0          John Lasseter             Tom Hanks           Tim Allen   \n",
       "1           Joe Johnston        Robin Williams       Jonathan Hyde   \n",
       "2          Howard Deutch        Walter Matthau         Jack Lemmon   \n",
       "3        Forest Whitaker       Whitney Houston      Angela Bassett   \n",
       "4          Charles Shyer          Steve Martin        Diane Keaton   \n",
       "..                   ...                   ...                 ...   \n",
       "995          Alan Parker  Christine Hargreaves     James Laurenson   \n",
       "996         Roland Joffé         Sam Waterston       Haing S. Ngor   \n",
       "997      Lasse Hallström      Anton Glanzelius  Tomas von Brömssen   \n",
       "998       Fred M. Wilcox        Walter Pidgeon        Anne Francis   \n",
       "999  Phil Alden Robinson         Kevin Costner         Amy Madigan   \n",
       "\n",
       "        actor_3_name                    genres                  movie_title  \\\n",
       "0        Don Rickles   Animation Comedy Family                    toy story   \n",
       "1      Kirsten Dunst  Adventure Fantasy Family                      jumanji   \n",
       "2        Ann-Margret            Romance Comedy             grumpier old men   \n",
       "3     Loretta Devine      Comedy Drama Romance            waiting to exhale   \n",
       "4       Martin Short                    Comedy  father of the bride part ii   \n",
       "..               ...                       ...                          ...   \n",
       "995    Eleanor David                     Music         pink floyd: the wall   \n",
       "996  Craig T. Nelson         War Drama History           the killing fields   \n",
       "997       Anki Lidén              Drama Comedy             my life as a dog   \n",
       "998   Leslie Nielsen   Adventure Sci-Fi Action             forbidden planet   \n",
       "999    Gaby Hoffmann             Drama Fantasy              field of dreams   \n",
       "\n",
       "                                                  comb  \n",
       "0    Tom Hanks Tim Allen Don Rickles John Lasseter ...  \n",
       "1    Robin Williams Jonathan Hyde Kirsten Dunst Joe...  \n",
       "2    Walter Matthau Jack Lemmon Ann-Margret Howard ...  \n",
       "3    Whitney Houston Angela Bassett Loretta Devine ...  \n",
       "4    Steve Martin Diane Keaton Martin Short Charles...  \n",
       "..                                                 ...  \n",
       "995  Christine Hargreaves James Laurenson Eleanor D...  \n",
       "996  Sam Waterston Haing S. Ngor Craig T. Nelson Ro...  \n",
       "997  Anton Glanzelius Tomas von Brömssen Anki Lidén...  \n",
       "998  Walter Pidgeon Anne Francis Leslie Nielsen Fre...  \n",
       "999  Kevin Costner Amy Madigan Gaby Hoffmann Phil A...  \n",
       "\n",
       "[1000 rows x 7 columns]"
      ]
     },
     "execution_count": 5,
     "metadata": {},
     "output_type": "execute_result"
    }
   ],
   "source": [
    "n1"
   ]
  },
  {
   "cell_type": "code",
   "execution_count": 11,
   "id": "6ca7f431",
   "metadata": {},
   "outputs": [],
   "source": [
    "vector = cv.fit_transform(n1['comb']).toarray()"
   ]
  },
  {
   "cell_type": "code",
   "execution_count": 12,
   "id": "e7537beb",
   "metadata": {},
   "outputs": [
    {
     "data": {
      "text/plain": [
       "array([[0, 0, 0, ..., 0, 0, 0],\n",
       "       [0, 0, 0, ..., 0, 0, 0],\n",
       "       [0, 0, 0, ..., 0, 0, 0],\n",
       "       ...,\n",
       "       [0, 0, 0, ..., 0, 0, 0],\n",
       "       [0, 0, 0, ..., 0, 0, 0],\n",
       "       [0, 0, 0, ..., 0, 0, 0]])"
      ]
     },
     "execution_count": 12,
     "metadata": {},
     "output_type": "execute_result"
    }
   ],
   "source": [
    "vector"
   ]
  },
  {
   "cell_type": "code",
   "execution_count": 7,
   "id": "f16fd96d",
   "metadata": {},
   "outputs": [],
   "source": [
    "vector.shape\n",
    "from sklearn.metrics.pairwise import cosine_similarity\n",
    "similarity = cosine_similarity(vector)"
   ]
  },
  {
   "cell_type": "code",
   "execution_count": null,
   "id": "36395298",
   "metadata": {},
   "outputs": [],
   "source": []
  },
  {
   "cell_type": "code",
   "execution_count": 8,
   "id": "9d2fc14f",
   "metadata": {},
   "outputs": [
    {
     "data": {
      "text/plain": [
       "0"
      ]
     },
     "execution_count": 8,
     "metadata": {},
     "output_type": "execute_result"
    }
   ],
   "source": [
    "similarity\n",
    "new[new['movie_title'] == 'toy story'].index[0]"
   ]
  },
  {
   "cell_type": "code",
   "execution_count": 9,
   "id": "364b1ded",
   "metadata": {},
   "outputs": [
    {
     "name": "stdout",
     "output_type": "stream",
     "text": [
      "annie hall\n",
      "manhattan\n",
      "manhattan murder mystery\n",
      "mighty aphrodite\n",
      "bananas\n"
     ]
    }
   ],
   "source": [
    "def recommend(movie):\n",
    "    index = new[new['movie_title'] == movie].index[0]\n",
    "    distances = sorted(list(enumerate(similarity[index])),reverse=True,key = lambda x: x[1])\n",
    "    for i in distances[1:6]:\n",
    "        print(new.iloc[i[0]].movie_title)\n",
    "        \n",
    "    \n",
    "recommend('sleeper')"
   ]
  },
  {
   "cell_type": "code",
   "execution_count": null,
   "id": "2139f623",
   "metadata": {},
   "outputs": [],
   "source": []
  }
 ],
 "metadata": {
  "kernelspec": {
   "display_name": "Python 3 (ipykernel)",
   "language": "python",
   "name": "python3"
  },
  "language_info": {
   "codemirror_mode": {
    "name": "ipython",
    "version": 3
   },
   "file_extension": ".py",
   "mimetype": "text/x-python",
   "name": "python",
   "nbconvert_exporter": "python",
   "pygments_lexer": "ipython3",
   "version": "3.8.5"
  }
 },
 "nbformat": 4,
 "nbformat_minor": 5
}
